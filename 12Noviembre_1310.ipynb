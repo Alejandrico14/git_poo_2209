{
  "nbformat": 4,
  "nbformat_minor": 0,
  "metadata": {
    "colab": {
      "name": "12Noviembre_1310.ipynb",
      "provenance": [],
      "authorship_tag": "ABX9TyOGm7R6nBj+Ezg8ie5zp/Cf",
      "include_colab_link": true
    },
    "kernelspec": {
      "name": "python3",
      "display_name": "Python 3"
    }
  },
  "cells": [
    {
      "cell_type": "markdown",
      "metadata": {
        "id": "view-in-github",
        "colab_type": "text"
      },
      "source": [
        "<a href=\"https://colab.research.google.com/github/Alejandrico14/git_poo_2209/blob/master/12Noviembre_1310.ipynb\" target=\"_parent\"><img src=\"https://colab.research.google.com/assets/colab-badge.svg\" alt=\"Open In Colab\"/></a>"
      ]
    },
    {
      "cell_type": "code",
      "metadata": {
        "id": "al5Jy10gcRVj",
        "outputId": "636cbd81-3a17-4aa1-d7d2-626eba670f53",
        "colab": {
          "base_uri": "https://localhost:8080/"
        }
      },
      "source": [
        "#class Nodo:\n",
        " #   def __init__( self , dato ):\n",
        "  #      self.dato = dato\n",
        "   #     self.siguiente = None\n",
        "\n",
        "#ejemplo 1\n",
        "\n",
        "#a= Nodo(12)\n",
        "#print(a.dato)\n",
        "#print(a.siguiente)\n",
        "\n",
        "#Empieza agregar mas elementos\n",
        "#Ejemplo 2\n",
        "\n",
        "#a.siguiente=Nodo(20)\n",
        "#print(a.siguiente)\n",
        "\n",
        "#Ejemplo 3\n",
        "\n",
        "#a.siguiente.siguiente= Nodo(30)\n",
        "\n",
        "#Ejemplo 4\n",
        "\n",
        "#a.siguiente.siguiente.siguiente= Nodo(40)\n",
        "\n",
        "#Ejemplo 5\n",
        "\n",
        "#a.siguiente.siguiente.siguiente.siguiente=Nodo(50)\n",
        "\n",
        "#Eliminando nodo 30, ejemplo 6\n",
        "\n",
        "#a.siguiente.siguiente=a.siguiente.siguiente.siguiente\n",
        "\n",
        "#Ejemplo 7 (reemplazar un dato)\n",
        "\n",
        "#a.siguiente.siguiente.dato= 45\n",
        "\n",
        "#Ejemplo 8 Insertar un dato entre dos.\n",
        "\n",
        "#tmp= a.siguiente.siguiente.siguiente # se crea la temporal para no perder la referencia del 50\n",
        "#a.siguiente.siguiente.siguiente = Nodo(48) #creando nodo que se va a insertar\n",
        "#a.siguiente.siguiente.siguiente.siguiente = tmp\n",
        "\n",
        "\n",
        "class Nodo:\n",
        "    def __init__( self , dato  , sig=None ):\n",
        "        self.dato = dato\n",
        "        self.siguiente = sig\n",
        "\n",
        "\n",
        "# ejemplo 1\n",
        "a = Nodo( 10 )\n",
        "\n",
        "# ejemplo 2   RECONSTRUCCION\n",
        "a = Nodo(10 , Nodo(20) )\n",
        "\n",
        "a = Nodo(10 , Nodo(20, Nodo(30)) )\n",
        "\n",
        "a = Nodo(10 , Nodo(20, Nodo(30,Nodo(40,Nodo(50)))) )\n",
        "\n",
        "\n",
        "\n",
        "#Corrido Transversal\n",
        "curr_node=a\n",
        "print(curr_node.dato, \"==>\", end=\"\")\n",
        "while(curr_node.siguiente != None):\n",
        "    curr_node = curr_node.siguiente\n",
        "    print(curr_node.dato,\"==>\",end=\"\")\n",
        "    #si ponemos el print en linea con el anterior print, nos va a \n",
        "    # dar una lista en escalera, very interesting\n",
        "    #print(\"\")\n",
        "print(\"\")\n",
        "\n"
      ],
      "execution_count": 19,
      "outputs": [
        {
          "output_type": "stream",
          "text": [
            "10 ==>20 ==>30 ==>40 ==>50 ==>\n"
          ],
          "name": "stdout"
        }
      ]
    },
    {
      "cell_type": "code",
      "metadata": {
        "id": "sPR-2WdDgU4q"
      },
      "source": [
        ""
      ],
      "execution_count": null,
      "outputs": []
    }
  ]
}